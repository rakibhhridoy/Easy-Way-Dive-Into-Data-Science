{
 "cells": [
  {
   "cell_type": "markdown",
   "metadata": {},
   "source": [
    "# Perceptron"
   ]
  },
  {
   "cell_type": "code",
   "execution_count": 41,
   "metadata": {},
   "outputs": [],
   "source": [
    "from sklearn import datasets\n",
    "import warnings \n",
    "warnings.filterwarnings('ignore')\n",
    "import copy"
   ]
  },
  {
   "cell_type": "code",
   "execution_count": 2,
   "metadata": {},
   "outputs": [],
   "source": [
    "import pandas as pd\n",
    "import numpy as np"
   ]
  },
  {
   "cell_type": "code",
   "execution_count": 3,
   "metadata": {},
   "outputs": [],
   "source": [
    "iris = datasets.load_iris()"
   ]
  },
  {
   "cell_type": "code",
   "execution_count": 4,
   "metadata": {},
   "outputs": [],
   "source": [
    "X, y = iris.data, iris.target"
   ]
  },
  {
   "cell_type": "code",
   "execution_count": 5,
   "metadata": {},
   "outputs": [],
   "source": [
    "x1, x2 = X[:,0], X[:,1]"
   ]
  },
  {
   "cell_type": "code",
   "execution_count": 6,
   "metadata": {},
   "outputs": [
    {
     "data": {
      "text/plain": [
       "(array([5.1, 4.9, 4.7, 4.6, 5. , 5.4, 4.6, 5. , 4.4, 4.9, 5.4, 4.8, 4.8,\n",
       "        4.3, 5.8, 5.7, 5.4, 5.1, 5.7, 5.1, 5.4, 5.1, 4.6, 5.1, 4.8, 5. ,\n",
       "        5. , 5.2, 5.2, 4.7, 4.8, 5.4, 5.2, 5.5, 4.9, 5. , 5.5, 4.9, 4.4,\n",
       "        5.1, 5. , 4.5, 4.4, 5. , 5.1, 4.8, 5.1, 4.6, 5.3, 5. , 7. , 6.4,\n",
       "        6.9, 5.5, 6.5, 5.7, 6.3, 4.9, 6.6, 5.2, 5. , 5.9, 6. , 6.1, 5.6,\n",
       "        6.7, 5.6, 5.8, 6.2, 5.6, 5.9, 6.1, 6.3, 6.1, 6.4, 6.6, 6.8, 6.7,\n",
       "        6. , 5.7, 5.5, 5.5, 5.8, 6. , 5.4, 6. , 6.7, 6.3, 5.6, 5.5, 5.5,\n",
       "        6.1, 5.8, 5. , 5.6, 5.7, 5.7, 6.2, 5.1, 5.7, 6.3, 5.8, 7.1, 6.3,\n",
       "        6.5, 7.6, 4.9, 7.3, 6.7, 7.2, 6.5, 6.4, 6.8, 5.7, 5.8, 6.4, 6.5,\n",
       "        7.7, 7.7, 6. , 6.9, 5.6, 7.7, 6.3, 6.7, 7.2, 6.2, 6.1, 6.4, 7.2,\n",
       "        7.4, 7.9, 6.4, 6.3, 6.1, 7.7, 6.3, 6.4, 6. , 6.9, 6.7, 6.9, 5.8,\n",
       "        6.8, 6.7, 6.7, 6.3, 6.5, 6.2, 5.9]),\n",
       " array([3.5, 3. , 3.2, 3.1, 3.6, 3.9, 3.4, 3.4, 2.9, 3.1, 3.7, 3.4, 3. ,\n",
       "        3. , 4. , 4.4, 3.9, 3.5, 3.8, 3.8, 3.4, 3.7, 3.6, 3.3, 3.4, 3. ,\n",
       "        3.4, 3.5, 3.4, 3.2, 3.1, 3.4, 4.1, 4.2, 3.1, 3.2, 3.5, 3.6, 3. ,\n",
       "        3.4, 3.5, 2.3, 3.2, 3.5, 3.8, 3. , 3.8, 3.2, 3.7, 3.3, 3.2, 3.2,\n",
       "        3.1, 2.3, 2.8, 2.8, 3.3, 2.4, 2.9, 2.7, 2. , 3. , 2.2, 2.9, 2.9,\n",
       "        3.1, 3. , 2.7, 2.2, 2.5, 3.2, 2.8, 2.5, 2.8, 2.9, 3. , 2.8, 3. ,\n",
       "        2.9, 2.6, 2.4, 2.4, 2.7, 2.7, 3. , 3.4, 3.1, 2.3, 3. , 2.5, 2.6,\n",
       "        3. , 2.6, 2.3, 2.7, 3. , 2.9, 2.9, 2.5, 2.8, 3.3, 2.7, 3. , 2.9,\n",
       "        3. , 3. , 2.5, 2.9, 2.5, 3.6, 3.2, 2.7, 3. , 2.5, 2.8, 3.2, 3. ,\n",
       "        3.8, 2.6, 2.2, 3.2, 2.8, 2.8, 2.7, 3.3, 3.2, 2.8, 3. , 2.8, 3. ,\n",
       "        2.8, 3.8, 2.8, 2.8, 2.6, 3. , 3.4, 3.1, 3. , 3.1, 3.1, 3.1, 2.7,\n",
       "        3.2, 3.3, 3. , 2.5, 3. , 3.4, 3. ]))"
      ]
     },
     "execution_count": 6,
     "metadata": {},
     "output_type": "execute_result"
    }
   ],
   "source": [
    "(x1,x2)"
   ]
  },
  {
   "cell_type": "code",
   "execution_count": 7,
   "metadata": {},
   "outputs": [],
   "source": [
    "import matplotlib.pyplot as plt"
   ]
  },
  {
   "cell_type": "code",
   "execution_count": 8,
   "metadata": {},
   "outputs": [
    {
     "data": {
      "text/plain": [
       "<matplotlib.collections.PathCollection at 0xb46ed48>"
      ]
     },
     "execution_count": 8,
     "metadata": {},
     "output_type": "execute_result"
    },
    {
     "data": {
      "image/png": "[encoded data removed]",
      "text/plain": [
       "<Figure size 432x288 with 1 Axes>"
      ]
     },
     "metadata": {
      "needs_background": "light"
     },
     "output_type": "display_data"
    }
   ],
   "source": [
    "plt.scatter(x1,x2)"
   ]
  },
  {
   "cell_type": "code",
   "execution_count": 9,
   "metadata": {},
   "outputs": [],
   "source": [
    "x1, x2 = pd.Series(x1), pd.Series(x2)"
   ]
  },
  {
   "cell_type": "code",
   "execution_count": 10,
   "metadata": {},
   "outputs": [
    {
     "data": {
      "text/plain": [
       "0    5.1\n",
       "1    4.9\n",
       "2    4.7\n",
       "3    4.6\n",
       "4    5.0\n",
       "5    5.4\n",
       "6    4.6\n",
       "7    5.0\n",
       "8    4.4\n",
       "9    4.9\n",
       "dtype: float64"
      ]
     },
     "execution_count": 10,
     "metadata": {},
     "output_type": "execute_result"
    }
   ],
   "source": [
    "x1[:10]"
   ]
  },
  {
   "cell_type": "code",
   "execution_count": 11,
   "metadata": {},
   "outputs": [],
   "source": [
    "df = pd.DataFrame(x1, columns= ['x1'])"
   ]
  },
  {
   "cell_type": "code",
   "execution_count": 12,
   "metadata": {},
   "outputs": [],
   "source": [
    "df['x2'], df['target'] = x2, y"
   ]
  },
  {
   "cell_type": "code",
   "execution_count": 13,
   "metadata": {},
   "outputs": [
    {
     "data": {
      "text/html": [
       "<div>\n",
       "<style scoped>\n",
       "    .dataframe tbody tr th:only-of-type {\n",
       "        vertical-align: middle;\n",
       "    }\n",
       "\n",
       "    .dataframe tbody tr th {\n",
       "        vertical-align: top;\n",
       "    }\n",
       "\n",
       "    .dataframe thead th {\n",
       "        text-align: right;\n",
       "    }\n",
       "</style>\n",
       "<table border=\"1\" class=\"dataframe\">\n",
       "  <thead>\n",
       "    <tr style=\"text-align: right;\">\n",
       "      <th></th>\n",
       "      <th>x1</th>\n",
       "      <th>x2</th>\n",
       "      <th>target</th>\n",
       "    </tr>\n",
       "  </thead>\n",
       "  <tbody>\n",
       "    <tr>\n",
       "      <th>0</th>\n",
       "      <td>5.1</td>\n",
       "      <td>3.5</td>\n",
       "      <td>0</td>\n",
       "    </tr>\n",
       "    <tr>\n",
       "      <th>1</th>\n",
       "      <td>4.9</td>\n",
       "      <td>3.0</td>\n",
       "      <td>0</td>\n",
       "    </tr>\n",
       "    <tr>\n",
       "      <th>2</th>\n",
       "      <td>4.7</td>\n",
       "      <td>3.2</td>\n",
       "      <td>0</td>\n",
       "    </tr>\n",
       "    <tr>\n",
       "      <th>3</th>\n",
       "      <td>4.6</td>\n",
       "      <td>3.1</td>\n",
       "      <td>0</td>\n",
       "    </tr>\n",
       "    <tr>\n",
       "      <th>4</th>\n",
       "      <td>5.0</td>\n",
       "      <td>3.6</td>\n",
       "      <td>0</td>\n",
       "    </tr>\n",
       "  </tbody>\n",
       "</table>\n",
       "</div>"
      ],
      "text/plain": [
       "    x1   x2  target\n",
       "0  5.1  3.5       0\n",
       "1  4.9  3.0       0\n",
       "2  4.7  3.2       0\n",
       "3  4.6  3.1       0\n",
       "4  5.0  3.6       0"
      ]
     },
     "execution_count": 13,
     "metadata": {},
     "output_type": "execute_result"
    }
   ],
   "source": [
    "df.head()"
   ]
  },
  {
   "cell_type": "code",
   "execution_count": 14,
   "metadata": {},
   "outputs": [
    {
     "data": {
      "text/html": [
       "<div>\n",
       "<style scoped>\n",
       "    .dataframe tbody tr th:only-of-type {\n",
       "        vertical-align: middle;\n",
       "    }\n",
       "\n",
       "    .dataframe tbody tr th {\n",
       "        vertical-align: top;\n",
       "    }\n",
       "\n",
       "    .dataframe thead th {\n",
       "        text-align: right;\n",
       "    }\n",
       "</style>\n",
       "<table border=\"1\" class=\"dataframe\">\n",
       "  <thead>\n",
       "    <tr style=\"text-align: right;\">\n",
       "      <th></th>\n",
       "      <th>x1</th>\n",
       "      <th>x2</th>\n",
       "      <th>target</th>\n",
       "    </tr>\n",
       "  </thead>\n",
       "  <tbody>\n",
       "    <tr>\n",
       "      <th>145</th>\n",
       "      <td>6.7</td>\n",
       "      <td>3.0</td>\n",
       "      <td>2</td>\n",
       "    </tr>\n",
       "    <tr>\n",
       "      <th>146</th>\n",
       "      <td>6.3</td>\n",
       "      <td>2.5</td>\n",
       "      <td>2</td>\n",
       "    </tr>\n",
       "    <tr>\n",
       "      <th>147</th>\n",
       "      <td>6.5</td>\n",
       "      <td>3.0</td>\n",
       "      <td>2</td>\n",
       "    </tr>\n",
       "    <tr>\n",
       "      <th>148</th>\n",
       "      <td>6.2</td>\n",
       "      <td>3.4</td>\n",
       "      <td>2</td>\n",
       "    </tr>\n",
       "    <tr>\n",
       "      <th>149</th>\n",
       "      <td>5.9</td>\n",
       "      <td>3.0</td>\n",
       "      <td>2</td>\n",
       "    </tr>\n",
       "  </tbody>\n",
       "</table>\n",
       "</div>"
      ],
      "text/plain": [
       "      x1   x2  target\n",
       "145  6.7  3.0       2\n",
       "146  6.3  2.5       2\n",
       "147  6.5  3.0       2\n",
       "148  6.2  3.4       2\n",
       "149  5.9  3.0       2"
      ]
     },
     "execution_count": 14,
     "metadata": {},
     "output_type": "execute_result"
    }
   ],
   "source": [
    " df.tail()"
   ]
  },
  {
   "cell_type": "code",
   "execution_count": 15,
   "metadata": {},
   "outputs": [],
   "source": [
    "random_state = 0\n",
    "rgen = np.random.RandomState(random_state)\n",
    "w_ = rgen.normal(loc=0.0, scale=0.01, size = 3)"
   ]
  },
  {
   "cell_type": "code",
   "execution_count": 16,
   "metadata": {},
   "outputs": [
    {
     "data": {
      "text/plain": [
       "array([0.01764052, 0.00400157, 0.00978738])"
      ]
     },
     "execution_count": 16,
     "metadata": {},
     "output_type": "execute_result"
    }
   ],
   "source": [
    "w_"
   ]
  },
  {
   "cell_type": "code",
   "execution_count": 17,
   "metadata": {},
   "outputs": [],
   "source": [
    "df = df[:100]"
   ]
  },
  {
   "cell_type": "code",
   "execution_count": 18,
   "metadata": {},
   "outputs": [
    {
     "data": {
      "text/html": [
       "<div>\n",
       "<style scoped>\n",
       "    .dataframe tbody tr th:only-of-type {\n",
       "        vertical-align: middle;\n",
       "    }\n",
       "\n",
       "    .dataframe tbody tr th {\n",
       "        vertical-align: top;\n",
       "    }\n",
       "\n",
       "    .dataframe thead th {\n",
       "        text-align: right;\n",
       "    }\n",
       "</style>\n",
       "<table border=\"1\" class=\"dataframe\">\n",
       "  <thead>\n",
       "    <tr style=\"text-align: right;\">\n",
       "      <th></th>\n",
       "      <th>x1</th>\n",
       "      <th>x2</th>\n",
       "      <th>target</th>\n",
       "    </tr>\n",
       "  </thead>\n",
       "  <tbody>\n",
       "    <tr>\n",
       "      <th>95</th>\n",
       "      <td>5.7</td>\n",
       "      <td>3.0</td>\n",
       "      <td>1</td>\n",
       "    </tr>\n",
       "    <tr>\n",
       "      <th>96</th>\n",
       "      <td>5.7</td>\n",
       "      <td>2.9</td>\n",
       "      <td>1</td>\n",
       "    </tr>\n",
       "    <tr>\n",
       "      <th>97</th>\n",
       "      <td>6.2</td>\n",
       "      <td>2.9</td>\n",
       "      <td>1</td>\n",
       "    </tr>\n",
       "    <tr>\n",
       "      <th>98</th>\n",
       "      <td>5.1</td>\n",
       "      <td>2.5</td>\n",
       "      <td>1</td>\n",
       "    </tr>\n",
       "    <tr>\n",
       "      <th>99</th>\n",
       "      <td>5.7</td>\n",
       "      <td>2.8</td>\n",
       "      <td>1</td>\n",
       "    </tr>\n",
       "  </tbody>\n",
       "</table>\n",
       "</div>"
      ],
      "text/plain": [
       "     x1   x2  target\n",
       "95  5.7  3.0       1\n",
       "96  5.7  2.9       1\n",
       "97  6.2  2.9       1\n",
       "98  5.1  2.5       1\n",
       "99  5.7  2.8       1"
      ]
     },
     "execution_count": 18,
     "metadata": {},
     "output_type": "execute_result"
    }
   ],
   "source": [
    "df.tail()"
   ]
  },
  {
   "cell_type": "code",
   "execution_count": 19,
   "metadata": {},
   "outputs": [],
   "source": [
    "w1 = []\n",
    "w2 = []\n",
    "b = []\n",
    "i = 0\n",
    "while i<100:\n",
    "    w1.append(w_[0])\n",
    "    w2.append(w_[1])\n",
    "    b.append(w_[-1])\n",
    "    \n",
    "    i += 1"
   ]
  },
  {
   "cell_type": "code",
   "execution_count": 20,
   "metadata": {},
   "outputs": [],
   "source": [
    "df['w1'], df['w2'], df['b'] = w1, w2,b"
   ]
  },
  {
   "cell_type": "code",
   "execution_count": 21,
   "metadata": {},
   "outputs": [
    {
     "data": {
      "text/html": [
       "<div>\n",
       "<style scoped>\n",
       "    .dataframe tbody tr th:only-of-type {\n",
       "        vertical-align: middle;\n",
       "    }\n",
       "\n",
       "    .dataframe tbody tr th {\n",
       "        vertical-align: top;\n",
       "    }\n",
       "\n",
       "    .dataframe thead th {\n",
       "        text-align: right;\n",
       "    }\n",
       "</style>\n",
       "<table border=\"1\" class=\"dataframe\">\n",
       "  <thead>\n",
       "    <tr style=\"text-align: right;\">\n",
       "      <th></th>\n",
       "      <th>x1</th>\n",
       "      <th>x2</th>\n",
       "      <th>target</th>\n",
       "      <th>w1</th>\n",
       "      <th>w2</th>\n",
       "      <th>b</th>\n",
       "    </tr>\n",
       "  </thead>\n",
       "  <tbody>\n",
       "    <tr>\n",
       "      <th>0</th>\n",
       "      <td>5.1</td>\n",
       "      <td>3.5</td>\n",
       "      <td>0</td>\n",
       "      <td>0.017641</td>\n",
       "      <td>0.004002</td>\n",
       "      <td>0.009787</td>\n",
       "    </tr>\n",
       "    <tr>\n",
       "      <th>1</th>\n",
       "      <td>4.9</td>\n",
       "      <td>3.0</td>\n",
       "      <td>0</td>\n",
       "      <td>0.017641</td>\n",
       "      <td>0.004002</td>\n",
       "      <td>0.009787</td>\n",
       "    </tr>\n",
       "    <tr>\n",
       "      <th>2</th>\n",
       "      <td>4.7</td>\n",
       "      <td>3.2</td>\n",
       "      <td>0</td>\n",
       "      <td>0.017641</td>\n",
       "      <td>0.004002</td>\n",
       "      <td>0.009787</td>\n",
       "    </tr>\n",
       "    <tr>\n",
       "      <th>3</th>\n",
       "      <td>4.6</td>\n",
       "      <td>3.1</td>\n",
       "      <td>0</td>\n",
       "      <td>0.017641</td>\n",
       "      <td>0.004002</td>\n",
       "      <td>0.009787</td>\n",
       "    </tr>\n",
       "    <tr>\n",
       "      <th>4</th>\n",
       "      <td>5.0</td>\n",
       "      <td>3.6</td>\n",
       "      <td>0</td>\n",
       "      <td>0.017641</td>\n",
       "      <td>0.004002</td>\n",
       "      <td>0.009787</td>\n",
       "    </tr>\n",
       "  </tbody>\n",
       "</table>\n",
       "</div>"
      ],
      "text/plain": [
       "    x1   x2  target        w1        w2         b\n",
       "0  5.1  3.5       0  0.017641  0.004002  0.009787\n",
       "1  4.9  3.0       0  0.017641  0.004002  0.009787\n",
       "2  4.7  3.2       0  0.017641  0.004002  0.009787\n",
       "3  4.6  3.1       0  0.017641  0.004002  0.009787\n",
       "4  5.0  3.6       0  0.017641  0.004002  0.009787"
      ]
     },
     "execution_count": 21,
     "metadata": {},
     "output_type": "execute_result"
    }
   ],
   "source": [
    "df.head()"
   ]
  },
  {
   "cell_type": "code",
   "execution_count": 22,
   "metadata": {},
   "outputs": [],
   "source": [
    "df['target'] = df['target'].replace([0,1] , [-1,1])"
   ]
  },
  {
   "cell_type": "code",
   "execution_count": 23,
   "metadata": {},
   "outputs": [
    {
     "data": {
      "text/html": [
       "<div>\n",
       "<style scoped>\n",
       "    .dataframe tbody tr th:only-of-type {\n",
       "        vertical-align: middle;\n",
       "    }\n",
       "\n",
       "    .dataframe tbody tr th {\n",
       "        vertical-align: top;\n",
       "    }\n",
       "\n",
       "    .dataframe thead th {\n",
       "        text-align: right;\n",
       "    }\n",
       "</style>\n",
       "<table border=\"1\" class=\"dataframe\">\n",
       "  <thead>\n",
       "    <tr style=\"text-align: right;\">\n",
       "      <th></th>\n",
       "      <th>x1</th>\n",
       "      <th>x2</th>\n",
       "      <th>target</th>\n",
       "      <th>w1</th>\n",
       "      <th>w2</th>\n",
       "      <th>b</th>\n",
       "    </tr>\n",
       "  </thead>\n",
       "  <tbody>\n",
       "    <tr>\n",
       "      <th>0</th>\n",
       "      <td>5.1</td>\n",
       "      <td>3.5</td>\n",
       "      <td>-1</td>\n",
       "      <td>0.017641</td>\n",
       "      <td>0.004002</td>\n",
       "      <td>0.009787</td>\n",
       "    </tr>\n",
       "    <tr>\n",
       "      <th>1</th>\n",
       "      <td>4.9</td>\n",
       "      <td>3.0</td>\n",
       "      <td>-1</td>\n",
       "      <td>0.017641</td>\n",
       "      <td>0.004002</td>\n",
       "      <td>0.009787</td>\n",
       "    </tr>\n",
       "    <tr>\n",
       "      <th>2</th>\n",
       "      <td>4.7</td>\n",
       "      <td>3.2</td>\n",
       "      <td>-1</td>\n",
       "      <td>0.017641</td>\n",
       "      <td>0.004002</td>\n",
       "      <td>0.009787</td>\n",
       "    </tr>\n",
       "    <tr>\n",
       "      <th>3</th>\n",
       "      <td>4.6</td>\n",
       "      <td>3.1</td>\n",
       "      <td>-1</td>\n",
       "      <td>0.017641</td>\n",
       "      <td>0.004002</td>\n",
       "      <td>0.009787</td>\n",
       "    </tr>\n",
       "    <tr>\n",
       "      <th>4</th>\n",
       "      <td>5.0</td>\n",
       "      <td>3.6</td>\n",
       "      <td>-1</td>\n",
       "      <td>0.017641</td>\n",
       "      <td>0.004002</td>\n",
       "      <td>0.009787</td>\n",
       "    </tr>\n",
       "  </tbody>\n",
       "</table>\n",
       "</div>"
      ],
      "text/plain": [
       "    x1   x2  target        w1        w2         b\n",
       "0  5.1  3.5      -1  0.017641  0.004002  0.009787\n",
       "1  4.9  3.0      -1  0.017641  0.004002  0.009787\n",
       "2  4.7  3.2      -1  0.017641  0.004002  0.009787\n",
       "3  4.6  3.1      -1  0.017641  0.004002  0.009787\n",
       "4  5.0  3.6      -1  0.017641  0.004002  0.009787"
      ]
     },
     "execution_count": 23,
     "metadata": {},
     "output_type": "execute_result"
    }
   ],
   "source": [
    "df.head()"
   ]
  },
  {
   "cell_type": "code",
   "execution_count": 24,
   "metadata": {},
   "outputs": [],
   "source": [
    "predicted = []\n",
    "i = 0\n",
    "\n",
    "while i<100:\n",
    "    range_ = range(0,100)\n",
    "    \n",
    "    for i in range_:\n",
    "        y_hat = -1 * df['b'][i] + df['w1'][i] * df['x1'][i] + df['w2'][i] * df['x2'][i]\n",
    "        if y_hat >=0 :\n",
    "            predicted.append(1)\n",
    "        else:\n",
    "            predicted.append(-1)\n",
    "    \n",
    "    i += 1"
   ]
  },
  {
   "cell_type": "code",
   "execution_count": 25,
   "metadata": {},
   "outputs": [],
   "source": [
    "df['y_hat'] = predicted"
   ]
  },
  {
   "cell_type": "code",
   "execution_count": 26,
   "metadata": {},
   "outputs": [
    {
     "data": {
      "text/html": [
       "<div>\n",
       "<style scoped>\n",
       "    .dataframe tbody tr th:only-of-type {\n",
       "        vertical-align: middle;\n",
       "    }\n",
       "\n",
       "    .dataframe tbody tr th {\n",
       "        vertical-align: top;\n",
       "    }\n",
       "\n",
       "    .dataframe thead th {\n",
       "        text-align: right;\n",
       "    }\n",
       "</style>\n",
       "<table border=\"1\" class=\"dataframe\">\n",
       "  <thead>\n",
       "    <tr style=\"text-align: right;\">\n",
       "      <th></th>\n",
       "      <th>x1</th>\n",
       "      <th>x2</th>\n",
       "      <th>target</th>\n",
       "      <th>w1</th>\n",
       "      <th>w2</th>\n",
       "      <th>b</th>\n",
       "      <th>y_hat</th>\n",
       "    </tr>\n",
       "  </thead>\n",
       "  <tbody>\n",
       "    <tr>\n",
       "      <th>0</th>\n",
       "      <td>5.1</td>\n",
       "      <td>3.5</td>\n",
       "      <td>-1</td>\n",
       "      <td>0.017641</td>\n",
       "      <td>0.004002</td>\n",
       "      <td>0.009787</td>\n",
       "      <td>1</td>\n",
       "    </tr>\n",
       "    <tr>\n",
       "      <th>1</th>\n",
       "      <td>4.9</td>\n",
       "      <td>3.0</td>\n",
       "      <td>-1</td>\n",
       "      <td>0.017641</td>\n",
       "      <td>0.004002</td>\n",
       "      <td>0.009787</td>\n",
       "      <td>1</td>\n",
       "    </tr>\n",
       "    <tr>\n",
       "      <th>2</th>\n",
       "      <td>4.7</td>\n",
       "      <td>3.2</td>\n",
       "      <td>-1</td>\n",
       "      <td>0.017641</td>\n",
       "      <td>0.004002</td>\n",
       "      <td>0.009787</td>\n",
       "      <td>1</td>\n",
       "    </tr>\n",
       "    <tr>\n",
       "      <th>3</th>\n",
       "      <td>4.6</td>\n",
       "      <td>3.1</td>\n",
       "      <td>-1</td>\n",
       "      <td>0.017641</td>\n",
       "      <td>0.004002</td>\n",
       "      <td>0.009787</td>\n",
       "      <td>1</td>\n",
       "    </tr>\n",
       "    <tr>\n",
       "      <th>4</th>\n",
       "      <td>5.0</td>\n",
       "      <td>3.6</td>\n",
       "      <td>-1</td>\n",
       "      <td>0.017641</td>\n",
       "      <td>0.004002</td>\n",
       "      <td>0.009787</td>\n",
       "      <td>1</td>\n",
       "    </tr>\n",
       "  </tbody>\n",
       "</table>\n",
       "</div>"
      ],
      "text/plain": [
       "    x1   x2  target        w1        w2         b  y_hat\n",
       "0  5.1  3.5      -1  0.017641  0.004002  0.009787      1\n",
       "1  4.9  3.0      -1  0.017641  0.004002  0.009787      1\n",
       "2  4.7  3.2      -1  0.017641  0.004002  0.009787      1\n",
       "3  4.6  3.1      -1  0.017641  0.004002  0.009787      1\n",
       "4  5.0  3.6      -1  0.017641  0.004002  0.009787      1"
      ]
     },
     "execution_count": 26,
     "metadata": {},
     "output_type": "execute_result"
    }
   ],
   "source": [
    "df.head()"
   ]
  },
  {
   "cell_type": "code",
   "execution_count": 27,
   "metadata": {},
   "outputs": [],
   "source": [
    "del_w1_update = []\n",
    "eta = 0.5\n",
    "del_w2_update = []\n",
    "index = df.index.values\n",
    "\n",
    "for n in index:\n",
    "    del_w1 = eta * (df['target'][n] - df['y_hat'][n]) * df['x1'][n]\n",
    "    del_w2 = eta * (df['target'][n] - df['y_hat'][n]) * df['x2'][n]\n",
    "\n",
    "\n",
    "    del_w1_update.append(del_w1)\n",
    "    del_w2_update.append(del_w2)\n",
    "\n",
    "    n += 1\n",
    "\n"
   ]
  },
  {
   "cell_type": "code",
   "execution_count": 28,
   "metadata": {
    "scrolled": true
   },
   "outputs": [
    {
     "data": {
      "text/plain": [
       "[-5.1,\n",
       " -4.9,\n",
       " -4.7,\n",
       " -4.6,\n",
       " -5.0,\n",
       " -5.4,\n",
       " -4.6,\n",
       " -5.0,\n",
       " -4.4,\n",
       " -4.9,\n",
       " -5.4,\n",
       " -4.8,\n",
       " -4.8,\n",
       " -4.3,\n",
       " -5.8,\n",
       " -5.7,\n",
       " -5.4,\n",
       " -5.1,\n",
       " -5.7,\n",
       " -5.1,\n",
       " -5.4,\n",
       " -5.1,\n",
       " -4.6,\n",
       " -5.1,\n",
       " -4.8,\n",
       " -5.0,\n",
       " -5.0,\n",
       " -5.2,\n",
       " -5.2,\n",
       " -4.7,\n",
       " -4.8,\n",
       " -5.4,\n",
       " -5.2,\n",
       " -5.5,\n",
       " -4.9,\n",
       " -5.0,\n",
       " -5.5,\n",
       " -4.9,\n",
       " -4.4,\n",
       " -5.1,\n",
       " -5.0,\n",
       " -4.5,\n",
       " -4.4,\n",
       " -5.0,\n",
       " -5.1,\n",
       " -4.8,\n",
       " -5.1,\n",
       " -4.6,\n",
       " -5.3,\n",
       " -5.0,\n",
       " 0.0,\n",
       " 0.0,\n",
       " 0.0,\n",
       " 0.0,\n",
       " 0.0,\n",
       " 0.0,\n",
       " 0.0,\n",
       " 0.0,\n",
       " 0.0,\n",
       " 0.0,\n",
       " 0.0,\n",
       " 0.0,\n",
       " 0.0,\n",
       " 0.0,\n",
       " 0.0,\n",
       " 0.0,\n",
       " 0.0,\n",
       " 0.0,\n",
       " 0.0,\n",
       " 0.0,\n",
       " 0.0,\n",
       " 0.0,\n",
       " 0.0,\n",
       " 0.0,\n",
       " 0.0,\n",
       " 0.0,\n",
       " 0.0,\n",
       " 0.0,\n",
       " 0.0,\n",
       " 0.0,\n",
       " 0.0,\n",
       " 0.0,\n",
       " 0.0,\n",
       " 0.0,\n",
       " 0.0,\n",
       " 0.0,\n",
       " 0.0,\n",
       " 0.0,\n",
       " 0.0,\n",
       " 0.0,\n",
       " 0.0,\n",
       " 0.0,\n",
       " 0.0,\n",
       " 0.0,\n",
       " 0.0,\n",
       " 0.0,\n",
       " 0.0,\n",
       " 0.0,\n",
       " 0.0,\n",
       " 0.0]"
      ]
     },
     "execution_count": 28,
     "metadata": {},
     "output_type": "execute_result"
    }
   ],
   "source": [
    "del_w1_update"
   ]
  },
  {
   "cell_type": "code",
   "execution_count": 29,
   "metadata": {},
   "outputs": [],
   "source": [
    "df['update_w1'] = df['w1'] + del_w1_update\n",
    "df['update_w2'] = df['w2'] + del_w2_update"
   ]
  },
  {
   "cell_type": "code",
   "execution_count": 30,
   "metadata": {},
   "outputs": [
    {
     "data": {
      "text/html": [
       "<div>\n",
       "<style scoped>\n",
       "    .dataframe tbody tr th:only-of-type {\n",
       "        vertical-align: middle;\n",
       "    }\n",
       "\n",
       "    .dataframe tbody tr th {\n",
       "        vertical-align: top;\n",
       "    }\n",
       "\n",
       "    .dataframe thead th {\n",
       "        text-align: right;\n",
       "    }\n",
       "</style>\n",
       "<table border=\"1\" class=\"dataframe\">\n",
       "  <thead>\n",
       "    <tr style=\"text-align: right;\">\n",
       "      <th></th>\n",
       "      <th>x1</th>\n",
       "      <th>x2</th>\n",
       "      <th>target</th>\n",
       "      <th>w1</th>\n",
       "      <th>w2</th>\n",
       "      <th>b</th>\n",
       "      <th>y_hat</th>\n",
       "      <th>update_w1</th>\n",
       "      <th>update_w2</th>\n",
       "    </tr>\n",
       "  </thead>\n",
       "  <tbody>\n",
       "    <tr>\n",
       "      <th>0</th>\n",
       "      <td>5.1</td>\n",
       "      <td>3.5</td>\n",
       "      <td>-1</td>\n",
       "      <td>0.017641</td>\n",
       "      <td>0.004002</td>\n",
       "      <td>0.009787</td>\n",
       "      <td>1</td>\n",
       "      <td>-5.082359</td>\n",
       "      <td>-3.495998</td>\n",
       "    </tr>\n",
       "    <tr>\n",
       "      <th>1</th>\n",
       "      <td>4.9</td>\n",
       "      <td>3.0</td>\n",
       "      <td>-1</td>\n",
       "      <td>0.017641</td>\n",
       "      <td>0.004002</td>\n",
       "      <td>0.009787</td>\n",
       "      <td>1</td>\n",
       "      <td>-4.882359</td>\n",
       "      <td>-2.995998</td>\n",
       "    </tr>\n",
       "    <tr>\n",
       "      <th>2</th>\n",
       "      <td>4.7</td>\n",
       "      <td>3.2</td>\n",
       "      <td>-1</td>\n",
       "      <td>0.017641</td>\n",
       "      <td>0.004002</td>\n",
       "      <td>0.009787</td>\n",
       "      <td>1</td>\n",
       "      <td>-4.682359</td>\n",
       "      <td>-3.195998</td>\n",
       "    </tr>\n",
       "    <tr>\n",
       "      <th>3</th>\n",
       "      <td>4.6</td>\n",
       "      <td>3.1</td>\n",
       "      <td>-1</td>\n",
       "      <td>0.017641</td>\n",
       "      <td>0.004002</td>\n",
       "      <td>0.009787</td>\n",
       "      <td>1</td>\n",
       "      <td>-4.582359</td>\n",
       "      <td>-3.095998</td>\n",
       "    </tr>\n",
       "    <tr>\n",
       "      <th>4</th>\n",
       "      <td>5.0</td>\n",
       "      <td>3.6</td>\n",
       "      <td>-1</td>\n",
       "      <td>0.017641</td>\n",
       "      <td>0.004002</td>\n",
       "      <td>0.009787</td>\n",
       "      <td>1</td>\n",
       "      <td>-4.982359</td>\n",
       "      <td>-3.595998</td>\n",
       "    </tr>\n",
       "  </tbody>\n",
       "</table>\n",
       "</div>"
      ],
      "text/plain": [
       "    x1   x2  target        w1        w2         b  y_hat  update_w1  update_w2\n",
       "0  5.1  3.5      -1  0.017641  0.004002  0.009787      1  -5.082359  -3.495998\n",
       "1  4.9  3.0      -1  0.017641  0.004002  0.009787      1  -4.882359  -2.995998\n",
       "2  4.7  3.2      -1  0.017641  0.004002  0.009787      1  -4.682359  -3.195998\n",
       "3  4.6  3.1      -1  0.017641  0.004002  0.009787      1  -4.582359  -3.095998\n",
       "4  5.0  3.6      -1  0.017641  0.004002  0.009787      1  -4.982359  -3.595998"
      ]
     },
     "execution_count": 30,
     "metadata": {},
     "output_type": "execute_result"
    }
   ],
   "source": [
    "df.head()"
   ]
  },
  {
   "cell_type": "code",
   "execution_count": 31,
   "metadata": {},
   "outputs": [],
   "source": [
    "predicted_after_update = []\n",
    "i = 0\n",
    "\n",
    "while i<100:\n",
    "    range_ = range(0,100)\n",
    "    \n",
    "    for i in range_:\n",
    "        y_hat = -1 * df['b'][i] + df['update_w1'][i] * df['x1'][i] + df['update_w2'][i] * df['x2'][i]\n",
    "        if y_hat >=0 :\n",
    "            predicted_after_update.append(1)\n",
    "        else:\n",
    "            predicted_after_update.append(-1)\n",
    "    \n",
    "    i += 1"
   ]
  },
  {
   "cell_type": "code",
   "execution_count": 32,
   "metadata": {},
   "outputs": [
    {
     "data": {
      "text/plain": [
       "([-1, -1, -1, -1, -1, -1, -1, -1, -1, -1], [1, 1, 1, 1, 1, 1, 1, 1, 1, 1])"
      ]
     },
     "execution_count": 32,
     "metadata": {},
     "output_type": "execute_result"
    }
   ],
   "source": [
    "(predicted_after_update[:10], predicted_after_update[-10:])"
   ]
  },
  {
   "cell_type": "code",
   "execution_count": 33,
   "metadata": {},
   "outputs": [],
   "source": [
    "df['predicted after update'] = predicted_after_update"
   ]
  },
  {
   "cell_type": "code",
   "execution_count": 34,
   "metadata": {},
   "outputs": [
    {
     "data": {
      "text/html": [
       "<div>\n",
       "<style scoped>\n",
       "    .dataframe tbody tr th:only-of-type {\n",
       "        vertical-align: middle;\n",
       "    }\n",
       "\n",
       "    .dataframe tbody tr th {\n",
       "        vertical-align: top;\n",
       "    }\n",
       "\n",
       "    .dataframe thead th {\n",
       "        text-align: right;\n",
       "    }\n",
       "</style>\n",
       "<table border=\"1\" class=\"dataframe\">\n",
       "  <thead>\n",
       "    <tr style=\"text-align: right;\">\n",
       "      <th></th>\n",
       "      <th>x1</th>\n",
       "      <th>x2</th>\n",
       "      <th>target</th>\n",
       "      <th>w1</th>\n",
       "      <th>w2</th>\n",
       "      <th>b</th>\n",
       "      <th>y_hat</th>\n",
       "      <th>update_w1</th>\n",
       "      <th>update_w2</th>\n",
       "      <th>predicted after update</th>\n",
       "    </tr>\n",
       "  </thead>\n",
       "  <tbody>\n",
       "    <tr>\n",
       "      <th>0</th>\n",
       "      <td>5.1</td>\n",
       "      <td>3.5</td>\n",
       "      <td>-1</td>\n",
       "      <td>0.017641</td>\n",
       "      <td>0.004002</td>\n",
       "      <td>0.009787</td>\n",
       "      <td>1</td>\n",
       "      <td>-5.082359</td>\n",
       "      <td>-3.495998</td>\n",
       "      <td>-1</td>\n",
       "    </tr>\n",
       "    <tr>\n",
       "      <th>1</th>\n",
       "      <td>4.9</td>\n",
       "      <td>3.0</td>\n",
       "      <td>-1</td>\n",
       "      <td>0.017641</td>\n",
       "      <td>0.004002</td>\n",
       "      <td>0.009787</td>\n",
       "      <td>1</td>\n",
       "      <td>-4.882359</td>\n",
       "      <td>-2.995998</td>\n",
       "      <td>-1</td>\n",
       "    </tr>\n",
       "    <tr>\n",
       "      <th>2</th>\n",
       "      <td>4.7</td>\n",
       "      <td>3.2</td>\n",
       "      <td>-1</td>\n",
       "      <td>0.017641</td>\n",
       "      <td>0.004002</td>\n",
       "      <td>0.009787</td>\n",
       "      <td>1</td>\n",
       "      <td>-4.682359</td>\n",
       "      <td>-3.195998</td>\n",
       "      <td>-1</td>\n",
       "    </tr>\n",
       "    <tr>\n",
       "      <th>3</th>\n",
       "      <td>4.6</td>\n",
       "      <td>3.1</td>\n",
       "      <td>-1</td>\n",
       "      <td>0.017641</td>\n",
       "      <td>0.004002</td>\n",
       "      <td>0.009787</td>\n",
       "      <td>1</td>\n",
       "      <td>-4.582359</td>\n",
       "      <td>-3.095998</td>\n",
       "      <td>-1</td>\n",
       "    </tr>\n",
       "    <tr>\n",
       "      <th>4</th>\n",
       "      <td>5.0</td>\n",
       "      <td>3.6</td>\n",
       "      <td>-1</td>\n",
       "      <td>0.017641</td>\n",
       "      <td>0.004002</td>\n",
       "      <td>0.009787</td>\n",
       "      <td>1</td>\n",
       "      <td>-4.982359</td>\n",
       "      <td>-3.595998</td>\n",
       "      <td>-1</td>\n",
       "    </tr>\n",
       "  </tbody>\n",
       "</table>\n",
       "</div>"
      ],
      "text/plain": [
       "    x1   x2  target        w1        w2         b  y_hat  update_w1  \\\n",
       "0  5.1  3.5      -1  0.017641  0.004002  0.009787      1  -5.082359   \n",
       "1  4.9  3.0      -1  0.017641  0.004002  0.009787      1  -4.882359   \n",
       "2  4.7  3.2      -1  0.017641  0.004002  0.009787      1  -4.682359   \n",
       "3  4.6  3.1      -1  0.017641  0.004002  0.009787      1  -4.582359   \n",
       "4  5.0  3.6      -1  0.017641  0.004002  0.009787      1  -4.982359   \n",
       "\n",
       "   update_w2  predicted after update  \n",
       "0  -3.495998                      -1  \n",
       "1  -2.995998                      -1  \n",
       "2  -3.195998                      -1  \n",
       "3  -3.095998                      -1  \n",
       "4  -3.595998                      -1  "
      ]
     },
     "execution_count": 34,
     "metadata": {},
     "output_type": "execute_result"
    }
   ],
   "source": [
    "df.head()"
   ]
  },
  {
   "cell_type": "code",
   "execution_count": 35,
   "metadata": {},
   "outputs": [
    {
     "name": "stdout",
     "output_type": "stream",
     "text": [
      "Missclassified Samples: 0\n"
     ]
    }
   ],
   "source": [
    "print('Missclassified Samples: %d' % (df['target'] != df['predicted after update']).sum())"
   ]
  },
  {
   "cell_type": "markdown",
   "metadata": {},
   "source": [
    "## So, Our Model is 100% Accurate"
   ]
  },
  {
   "cell_type": "code",
   "execution_count": 36,
   "metadata": {},
   "outputs": [],
   "source": [
    "X = df[['x1', 'x2']]\n",
    "w = df[['update_w1', 'update_w2']]\n",
    "\n",
    "class Perceptron(object):\n",
    "    def __init__(self, X, w):\n",
    "        self.X = X\n",
    "        self.w = w\n",
    "        \n",
    "    def net_input(self):\n",
    "        return np.dot(self.X, self.w) + b\n",
    "\n",
    "    def predict(self):\n",
    "        return np.where(net_input(self.X) >= 0 , 1, -1)"
   ]
  },
  {
   "cell_type": "code",
   "execution_count": 37,
   "metadata": {},
   "outputs": [],
   "source": [
    "ppn = Perceptron(X,w)"
   ]
  },
  {
   "cell_type": "code",
   "execution_count": 38,
   "metadata": {},
   "outputs": [
    {
     "ename": "NameError",
     "evalue": "name 'xx1' is not defined",
     "output_type": "error",
     "traceback": [
      "\u001b[1;31m---------------------------------------------------------------------------\u001b[0m",
      "\u001b[1;31mNameError\u001b[0m                                 Traceback (most recent call last)",
      "\u001b[1;32m<ipython-input-38-ca9d2abe5e66>\u001b[0m in \u001b[0;36m<module>\u001b[1;34m\u001b[0m\n\u001b[1;32m----> 1\u001b[1;33m \u001b[0mZ\u001b[0m \u001b[1;33m=\u001b[0m \u001b[0mppn\u001b[0m\u001b[1;33m.\u001b[0m\u001b[0mpredict\u001b[0m\u001b[1;33m(\u001b[0m\u001b[0mnp\u001b[0m\u001b[1;33m.\u001b[0m\u001b[0marray\u001b[0m\u001b[1;33m(\u001b[0m\u001b[1;33m[\u001b[0m\u001b[0mxx1\u001b[0m\u001b[1;33m.\u001b[0m\u001b[0mravel\u001b[0m\u001b[1;33m(\u001b[0m\u001b[1;33m)\u001b[0m\u001b[1;33m,\u001b[0m \u001b[0mxx2\u001b[0m\u001b[1;33m.\u001b[0m\u001b[0mravel\u001b[0m\u001b[1;33m(\u001b[0m\u001b[1;33m)\u001b[0m\u001b[1;33m]\u001b[0m\u001b[1;33m)\u001b[0m\u001b[1;33m.\u001b[0m\u001b[0mT\u001b[0m\u001b[1;33m)\u001b[0m\u001b[1;33m\u001b[0m\u001b[1;33m\u001b[0m\u001b[0m\n\u001b[0m",
      "\u001b[1;31mNameError\u001b[0m: name 'xx1' is not defined"
     ]
    }
   ],
   "source": [
    "Z = ppn.predict(np.array([xx1.ravel(), xx2.ravel()]).T)"
   ]
  },
  {
   "cell_type": "code",
   "execution_count": null,
   "metadata": {},
   "outputs": [],
   "source": [
    "def net_input(X,w,b):\n",
    "    return np.dot(X, w) + b\n",
    "\n",
    "net_input(X,w,df['b'])\n",
    "def predict(X):\n",
    "    return np.where(net_input(X) >= 0 , 1, -1)"
   ]
  },
  {
   "cell_type": "code",
   "execution_count": null,
   "metadata": {},
   "outputs": [],
   "source": [
    "Z = predict(np.array([xx1.ravel(), xx2.ravel()]).T)"
   ]
  },
  {
   "cell_type": "code",
   "execution_count": null,
   "metadata": {},
   "outputs": [],
   "source": []
  },
  {
   "cell_type": "code",
   "execution_count": null,
   "metadata": {},
   "outputs": [],
   "source": []
  },
  {
   "cell_type": "code",
   "execution_count": null,
   "metadata": {},
   "outputs": [],
   "source": [
    "from matplotlib.colors import ListedColormap\n",
    "\n",
    "colors = ('r','b')\n",
    "cmap = ListedColormap(colors[:2])\n",
    "\n",
    "resolution = 0.02\n",
    "x1_min, x1_max = df['x1'].min() - 1, df['x1'].max() + 1\n",
    "x2_min, x2_max = df['x2'].min() - 1, df['x2'].max() + 1\n",
    "xx1, xx2 = np.meshgrid(np.arange(x1_min, x1_max, resolution),\n",
    "                       np.arange(x2_min, x2_max, resolution))\n",
    "\n",
    "Z = df['predicted after update'] * (np.array([xx1.ravel(), xx2.ravel()]).T)\n",
    "Z = Z.reshape(xx1.shape)\n",
    "plt.contourf(xx1, xx2, Z, alpha=0.3, cmap=cmap)\n",
    "plt.xlim(xx1.min(), xx1.max())\n",
    "plt.ylim(xx2.min(), xx2.max())"
   ]
  },
  {
   "cell_type": "code",
   "execution_count": null,
   "metadata": {},
   "outputs": [],
   "source": [
    "(np.array([xx1.ravel(), xx2.ravel()]).T)"
   ]
  },
  {
   "cell_type": "code",
   "execution_count": null,
   "metadata": {},
   "outputs": [],
   "source": [
    "xx1"
   ]
  },
  {
   "cell_type": "code",
   "execution_count": null,
   "metadata": {},
   "outputs": [],
   "source": [
    "xx1.ravel()"
   ]
  },
  {
   "cell_type": "code",
   "execution_count": null,
   "metadata": {},
   "outputs": [],
   "source": [
    "x1_min, x1_max = df['x1'].min() - 1, df['x1'].max() + 1\n",
    "x2_min, x2_max = df['x2'].min() - 1, df['x2'].max() + 1"
   ]
  },
  {
   "cell_type": "code",
   "execution_count": null,
   "metadata": {},
   "outputs": [],
   "source": [
    "xx1, xx2 = np.meshgrid(np.arange(x1_min, x1_max),\n",
    "                       np.arange(x2_min, x2_max))"
   ]
  },
  {
   "cell_type": "code",
   "execution_count": null,
   "metadata": {},
   "outputs": [],
   "source": [
    "xx1, xx2"
   ]
  },
  {
   "cell_type": "code",
   "execution_count": null,
   "metadata": {},
   "outputs": [],
   "source": [
    "xx1, xx2 = np.meshgrid(np.arange(x1_min, x1_max, resolution),\n",
    "                       np.arange(x2_min, x2_max, resolution))"
   ]
  },
  {
   "cell_type": "code",
   "execution_count": null,
   "metadata": {},
   "outputs": [],
   "source": [
    "len(xx1)"
   ]
  },
  {
   "cell_type": "markdown",
   "metadata": {},
   "source": [
    "# Adaline"
   ]
  },
  {
   "cell_type": "code",
   "execution_count": 39,
   "metadata": {},
   "outputs": [
    {
     "data": {
      "text/html": [
       "<div>\n",
       "<style scoped>\n",
       "    .dataframe tbody tr th:only-of-type {\n",
       "        vertical-align: middle;\n",
       "    }\n",
       "\n",
       "    .dataframe tbody tr th {\n",
       "        vertical-align: top;\n",
       "    }\n",
       "\n",
       "    .dataframe thead th {\n",
       "        text-align: right;\n",
       "    }\n",
       "</style>\n",
       "<table border=\"1\" class=\"dataframe\">\n",
       "  <thead>\n",
       "    <tr style=\"text-align: right;\">\n",
       "      <th></th>\n",
       "      <th>x1</th>\n",
       "      <th>x2</th>\n",
       "      <th>target</th>\n",
       "      <th>w1</th>\n",
       "      <th>w2</th>\n",
       "      <th>b</th>\n",
       "      <th>y_hat</th>\n",
       "      <th>update_w1</th>\n",
       "      <th>update_w2</th>\n",
       "      <th>predicted after update</th>\n",
       "    </tr>\n",
       "  </thead>\n",
       "  <tbody>\n",
       "    <tr>\n",
       "      <th>0</th>\n",
       "      <td>5.1</td>\n",
       "      <td>3.5</td>\n",
       "      <td>-1</td>\n",
       "      <td>0.017641</td>\n",
       "      <td>0.004002</td>\n",
       "      <td>0.009787</td>\n",
       "      <td>1</td>\n",
       "      <td>-5.082359</td>\n",
       "      <td>-3.495998</td>\n",
       "      <td>-1</td>\n",
       "    </tr>\n",
       "    <tr>\n",
       "      <th>1</th>\n",
       "      <td>4.9</td>\n",
       "      <td>3.0</td>\n",
       "      <td>-1</td>\n",
       "      <td>0.017641</td>\n",
       "      <td>0.004002</td>\n",
       "      <td>0.009787</td>\n",
       "      <td>1</td>\n",
       "      <td>-4.882359</td>\n",
       "      <td>-2.995998</td>\n",
       "      <td>-1</td>\n",
       "    </tr>\n",
       "    <tr>\n",
       "      <th>2</th>\n",
       "      <td>4.7</td>\n",
       "      <td>3.2</td>\n",
       "      <td>-1</td>\n",
       "      <td>0.017641</td>\n",
       "      <td>0.004002</td>\n",
       "      <td>0.009787</td>\n",
       "      <td>1</td>\n",
       "      <td>-4.682359</td>\n",
       "      <td>-3.195998</td>\n",
       "      <td>-1</td>\n",
       "    </tr>\n",
       "    <tr>\n",
       "      <th>3</th>\n",
       "      <td>4.6</td>\n",
       "      <td>3.1</td>\n",
       "      <td>-1</td>\n",
       "      <td>0.017641</td>\n",
       "      <td>0.004002</td>\n",
       "      <td>0.009787</td>\n",
       "      <td>1</td>\n",
       "      <td>-4.582359</td>\n",
       "      <td>-3.095998</td>\n",
       "      <td>-1</td>\n",
       "    </tr>\n",
       "    <tr>\n",
       "      <th>4</th>\n",
       "      <td>5.0</td>\n",
       "      <td>3.6</td>\n",
       "      <td>-1</td>\n",
       "      <td>0.017641</td>\n",
       "      <td>0.004002</td>\n",
       "      <td>0.009787</td>\n",
       "      <td>1</td>\n",
       "      <td>-4.982359</td>\n",
       "      <td>-3.595998</td>\n",
       "      <td>-1</td>\n",
       "    </tr>\n",
       "  </tbody>\n",
       "</table>\n",
       "</div>"
      ],
      "text/plain": [
       "    x1   x2  target        w1        w2         b  y_hat  update_w1  \\\n",
       "0  5.1  3.5      -1  0.017641  0.004002  0.009787      1  -5.082359   \n",
       "1  4.9  3.0      -1  0.017641  0.004002  0.009787      1  -4.882359   \n",
       "2  4.7  3.2      -1  0.017641  0.004002  0.009787      1  -4.682359   \n",
       "3  4.6  3.1      -1  0.017641  0.004002  0.009787      1  -4.582359   \n",
       "4  5.0  3.6      -1  0.017641  0.004002  0.009787      1  -4.982359   \n",
       "\n",
       "   update_w2  predicted after update  \n",
       "0  -3.495998                      -1  \n",
       "1  -2.995998                      -1  \n",
       "2  -3.195998                      -1  \n",
       "3  -3.095998                      -1  \n",
       "4  -3.595998                      -1  "
      ]
     },
     "execution_count": 39,
     "metadata": {},
     "output_type": "execute_result"
    }
   ],
   "source": [
    "df.head()"
   ]
  },
  {
   "cell_type": "code",
   "execution_count": 43,
   "metadata": {},
   "outputs": [],
   "source": [
    "perceptron = copy.deepcopy(df)"
   ]
  },
  {
   "cell_type": "code",
   "execution_count": 48,
   "metadata": {},
   "outputs": [],
   "source": [
    "adaline = copy.deepcopy(df[['x1','x2','target','w1','w2','b', 'y_hat']])"
   ]
  },
  {
   "cell_type": "code",
   "execution_count": 49,
   "metadata": {},
   "outputs": [
    {
     "data": {
      "text/html": [
       "<div>\n",
       "<style scoped>\n",
       "    .dataframe tbody tr th:only-of-type {\n",
       "        vertical-align: middle;\n",
       "    }\n",
       "\n",
       "    .dataframe tbody tr th {\n",
       "        vertical-align: top;\n",
       "    }\n",
       "\n",
       "    .dataframe thead th {\n",
       "        text-align: right;\n",
       "    }\n",
       "</style>\n",
       "<table border=\"1\" class=\"dataframe\">\n",
       "  <thead>\n",
       "    <tr style=\"text-align: right;\">\n",
       "      <th></th>\n",
       "      <th>x1</th>\n",
       "      <th>x2</th>\n",
       "      <th>target</th>\n",
       "      <th>w1</th>\n",
       "      <th>w2</th>\n",
       "      <th>b</th>\n",
       "      <th>y_hat</th>\n",
       "    </tr>\n",
       "  </thead>\n",
       "  <tbody>\n",
       "    <tr>\n",
       "      <th>0</th>\n",
       "      <td>5.1</td>\n",
       "      <td>3.5</td>\n",
       "      <td>-1</td>\n",
       "      <td>0.017641</td>\n",
       "      <td>0.004002</td>\n",
       "      <td>0.009787</td>\n",
       "      <td>1</td>\n",
       "    </tr>\n",
       "    <tr>\n",
       "      <th>1</th>\n",
       "      <td>4.9</td>\n",
       "      <td>3.0</td>\n",
       "      <td>-1</td>\n",
       "      <td>0.017641</td>\n",
       "      <td>0.004002</td>\n",
       "      <td>0.009787</td>\n",
       "      <td>1</td>\n",
       "    </tr>\n",
       "    <tr>\n",
       "      <th>2</th>\n",
       "      <td>4.7</td>\n",
       "      <td>3.2</td>\n",
       "      <td>-1</td>\n",
       "      <td>0.017641</td>\n",
       "      <td>0.004002</td>\n",
       "      <td>0.009787</td>\n",
       "      <td>1</td>\n",
       "    </tr>\n",
       "    <tr>\n",
       "      <th>3</th>\n",
       "      <td>4.6</td>\n",
       "      <td>3.1</td>\n",
       "      <td>-1</td>\n",
       "      <td>0.017641</td>\n",
       "      <td>0.004002</td>\n",
       "      <td>0.009787</td>\n",
       "      <td>1</td>\n",
       "    </tr>\n",
       "    <tr>\n",
       "      <th>4</th>\n",
       "      <td>5.0</td>\n",
       "      <td>3.6</td>\n",
       "      <td>-1</td>\n",
       "      <td>0.017641</td>\n",
       "      <td>0.004002</td>\n",
       "      <td>0.009787</td>\n",
       "      <td>1</td>\n",
       "    </tr>\n",
       "  </tbody>\n",
       "</table>\n",
       "</div>"
      ],
      "text/plain": [
       "    x1   x2  target        w1        w2         b  y_hat\n",
       "0  5.1  3.5      -1  0.017641  0.004002  0.009787      1\n",
       "1  4.9  3.0      -1  0.017641  0.004002  0.009787      1\n",
       "2  4.7  3.2      -1  0.017641  0.004002  0.009787      1\n",
       "3  4.6  3.1      -1  0.017641  0.004002  0.009787      1\n",
       "4  5.0  3.6      -1  0.017641  0.004002  0.009787      1"
      ]
     },
     "execution_count": 49,
     "metadata": {},
     "output_type": "execute_result"
    }
   ],
   "source": [
    "adaline.head()"
   ]
  },
  {
   "cell_type": "code",
   "execution_count": 156,
   "metadata": {},
   "outputs": [],
   "source": [
    "del_update_w1 = []\n",
    "del_update_w2 = []\n",
    "i = 0\n",
    "sum_1 = sum((adaline['target']  - adaline['y_hat']) * adaline['x1'])\n",
    "sum_2 = sum((adaline['target'] - adaline['y_hat']) * adaline['x1'])\n",
    "eta = 0.5\n",
    "while i<100:\n",
    "    del_w1 = eta * sum_1\n",
    "    del_w2 = eta * sum_2\n",
    "    \n",
    "    del_update_w1.append(del_w1)\n",
    "    del_update_w2.append(del_w2)\n",
    "    \n",
    "    i += 1\n",
    "    \n",
    "del_update_w1 = np.array(del_update_w1)\n",
    "del_update_w2= np.array(del_update_w2)"
   ]
  },
  {
   "cell_type": "code",
   "execution_count": 157,
   "metadata": {},
   "outputs": [
    {
     "data": {
      "text/plain": [
       "(100,)"
      ]
     },
     "execution_count": 157,
     "metadata": {},
     "output_type": "execute_result"
    }
   ],
   "source": [
    "del_update_w1.shape"
   ]
  },
  {
   "cell_type": "code",
   "execution_count": 158,
   "metadata": {},
   "outputs": [],
   "source": [
    "del_update_w1 = del_update_w1[1]"
   ]
  },
  {
   "cell_type": "code",
   "execution_count": 159,
   "metadata": {},
   "outputs": [],
   "source": [
    "del_update_w2 = del_update_w2[1]"
   ]
  },
  {
   "cell_type": "code",
   "execution_count": 160,
   "metadata": {},
   "outputs": [],
   "source": [
    "adaline['update_w1'], adaline['update_w2'] = del_update_w1 + adaline['w1'] , del_update_w2 + adaline['w2']"
   ]
  },
  {
   "cell_type": "code",
   "execution_count": 161,
   "metadata": {},
   "outputs": [
    {
     "data": {
      "text/html": [
       "<div>\n",
       "<style scoped>\n",
       "    .dataframe tbody tr th:only-of-type {\n",
       "        vertical-align: middle;\n",
       "    }\n",
       "\n",
       "    .dataframe tbody tr th {\n",
       "        vertical-align: top;\n",
       "    }\n",
       "\n",
       "    .dataframe thead th {\n",
       "        text-align: right;\n",
       "    }\n",
       "</style>\n",
       "<table border=\"1\" class=\"dataframe\">\n",
       "  <thead>\n",
       "    <tr style=\"text-align: right;\">\n",
       "      <th></th>\n",
       "      <th>x1</th>\n",
       "      <th>x2</th>\n",
       "      <th>target</th>\n",
       "      <th>w1</th>\n",
       "      <th>w2</th>\n",
       "      <th>b</th>\n",
       "      <th>y_hat</th>\n",
       "      <th>update_w1</th>\n",
       "      <th>update_w2</th>\n",
       "      <th>predicted after update- epoch1</th>\n",
       "      <th>w1 update after epoch-2</th>\n",
       "      <th>w2 update after epoch-2</th>\n",
       "    </tr>\n",
       "  </thead>\n",
       "  <tbody>\n",
       "    <tr>\n",
       "      <th>0</th>\n",
       "      <td>5.1</td>\n",
       "      <td>3.5</td>\n",
       "      <td>-1</td>\n",
       "      <td>0.017641</td>\n",
       "      <td>0.004002</td>\n",
       "      <td>0.009787</td>\n",
       "      <td>1</td>\n",
       "      <td>-250.282359</td>\n",
       "      <td>-250.295998</td>\n",
       "      <td>-1</td>\n",
       "      <td>-509.982359</td>\n",
       "      <td>0.004002</td>\n",
       "    </tr>\n",
       "    <tr>\n",
       "      <th>1</th>\n",
       "      <td>4.9</td>\n",
       "      <td>3.0</td>\n",
       "      <td>-1</td>\n",
       "      <td>0.017641</td>\n",
       "      <td>0.004002</td>\n",
       "      <td>0.009787</td>\n",
       "      <td>1</td>\n",
       "      <td>-250.282359</td>\n",
       "      <td>-250.295998</td>\n",
       "      <td>-1</td>\n",
       "      <td>-489.982359</td>\n",
       "      <td>0.004002</td>\n",
       "    </tr>\n",
       "    <tr>\n",
       "      <th>2</th>\n",
       "      <td>4.7</td>\n",
       "      <td>3.2</td>\n",
       "      <td>-1</td>\n",
       "      <td>0.017641</td>\n",
       "      <td>0.004002</td>\n",
       "      <td>0.009787</td>\n",
       "      <td>1</td>\n",
       "      <td>-250.282359</td>\n",
       "      <td>-250.295998</td>\n",
       "      <td>-1</td>\n",
       "      <td>-469.982359</td>\n",
       "      <td>0.004002</td>\n",
       "    </tr>\n",
       "    <tr>\n",
       "      <th>3</th>\n",
       "      <td>4.6</td>\n",
       "      <td>3.1</td>\n",
       "      <td>-1</td>\n",
       "      <td>0.017641</td>\n",
       "      <td>0.004002</td>\n",
       "      <td>0.009787</td>\n",
       "      <td>1</td>\n",
       "      <td>-250.282359</td>\n",
       "      <td>-250.295998</td>\n",
       "      <td>-1</td>\n",
       "      <td>-459.982359</td>\n",
       "      <td>0.004002</td>\n",
       "    </tr>\n",
       "    <tr>\n",
       "      <th>4</th>\n",
       "      <td>5.0</td>\n",
       "      <td>3.6</td>\n",
       "      <td>-1</td>\n",
       "      <td>0.017641</td>\n",
       "      <td>0.004002</td>\n",
       "      <td>0.009787</td>\n",
       "      <td>1</td>\n",
       "      <td>-250.282359</td>\n",
       "      <td>-250.295998</td>\n",
       "      <td>-1</td>\n",
       "      <td>-499.982359</td>\n",
       "      <td>0.004002</td>\n",
       "    </tr>\n",
       "  </tbody>\n",
       "</table>\n",
       "</div>"
      ],
      "text/plain": [
       "    x1   x2  target        w1        w2         b  y_hat   update_w1  \\\n",
       "0  5.1  3.5      -1  0.017641  0.004002  0.009787      1 -250.282359   \n",
       "1  4.9  3.0      -1  0.017641  0.004002  0.009787      1 -250.282359   \n",
       "2  4.7  3.2      -1  0.017641  0.004002  0.009787      1 -250.282359   \n",
       "3  4.6  3.1      -1  0.017641  0.004002  0.009787      1 -250.282359   \n",
       "4  5.0  3.6      -1  0.017641  0.004002  0.009787      1 -250.282359   \n",
       "\n",
       "    update_w2  predicted after update- epoch1  w1 update after epoch-2  \\\n",
       "0 -250.295998                              -1              -509.982359   \n",
       "1 -250.295998                              -1              -489.982359   \n",
       "2 -250.295998                              -1              -469.982359   \n",
       "3 -250.295998                              -1              -459.982359   \n",
       "4 -250.295998                              -1              -499.982359   \n",
       "\n",
       "   w2 update after epoch-2  \n",
       "0                 0.004002  \n",
       "1                 0.004002  \n",
       "2                 0.004002  \n",
       "3                 0.004002  \n",
       "4                 0.004002  "
      ]
     },
     "execution_count": 161,
     "metadata": {},
     "output_type": "execute_result"
    }
   ],
   "source": [
    "adaline.head()"
   ]
  },
  {
   "cell_type": "code",
   "execution_count": null,
   "metadata": {},
   "outputs": [],
   "source": []
  },
  {
   "cell_type": "code",
   "execution_count": 162,
   "metadata": {},
   "outputs": [],
   "source": [
    "predicted_after_update = []\n",
    "i = 0\n",
    "\n",
    "while i<100:\n",
    "    range_ = range(0,100)\n",
    "    \n",
    "    for i in range_:\n",
    "        y_hat =  adaline['b'][i] + adaline['update_w1'][i] * adaline['x1'][i] + adaline['update_w2'][i] * adaline['x2'][i]\n",
    "        if y_hat >=0 :\n",
    "            predicted_after_update.append(1)\n",
    "        else:\n",
    "            predicted_after_update.append(-1)\n",
    "    \n",
    "    i += 1"
   ]
  },
  {
   "cell_type": "code",
   "execution_count": 163,
   "metadata": {},
   "outputs": [],
   "source": [
    "adaline['predicted after update- epoch1'] = predicted_after_update"
   ]
  },
  {
   "cell_type": "code",
   "execution_count": 164,
   "metadata": {},
   "outputs": [
    {
     "data": {
      "text/html": [
       "<div>\n",
       "<style scoped>\n",
       "    .dataframe tbody tr th:only-of-type {\n",
       "        vertical-align: middle;\n",
       "    }\n",
       "\n",
       "    .dataframe tbody tr th {\n",
       "        vertical-align: top;\n",
       "    }\n",
       "\n",
       "    .dataframe thead th {\n",
       "        text-align: right;\n",
       "    }\n",
       "</style>\n",
       "<table border=\"1\" class=\"dataframe\">\n",
       "  <thead>\n",
       "    <tr style=\"text-align: right;\">\n",
       "      <th></th>\n",
       "      <th>x1</th>\n",
       "      <th>x2</th>\n",
       "      <th>target</th>\n",
       "      <th>w1</th>\n",
       "      <th>w2</th>\n",
       "      <th>b</th>\n",
       "      <th>y_hat</th>\n",
       "      <th>update_w1</th>\n",
       "      <th>update_w2</th>\n",
       "      <th>predicted after update- epoch1</th>\n",
       "      <th>w1 update after epoch-2</th>\n",
       "      <th>w2 update after epoch-2</th>\n",
       "    </tr>\n",
       "  </thead>\n",
       "  <tbody>\n",
       "    <tr>\n",
       "      <th>0</th>\n",
       "      <td>5.1</td>\n",
       "      <td>3.5</td>\n",
       "      <td>-1</td>\n",
       "      <td>0.017641</td>\n",
       "      <td>0.004002</td>\n",
       "      <td>0.009787</td>\n",
       "      <td>1</td>\n",
       "      <td>-250.282359</td>\n",
       "      <td>-250.295998</td>\n",
       "      <td>-1</td>\n",
       "      <td>-509.982359</td>\n",
       "      <td>0.004002</td>\n",
       "    </tr>\n",
       "    <tr>\n",
       "      <th>1</th>\n",
       "      <td>4.9</td>\n",
       "      <td>3.0</td>\n",
       "      <td>-1</td>\n",
       "      <td>0.017641</td>\n",
       "      <td>0.004002</td>\n",
       "      <td>0.009787</td>\n",
       "      <td>1</td>\n",
       "      <td>-250.282359</td>\n",
       "      <td>-250.295998</td>\n",
       "      <td>-1</td>\n",
       "      <td>-489.982359</td>\n",
       "      <td>0.004002</td>\n",
       "    </tr>\n",
       "    <tr>\n",
       "      <th>2</th>\n",
       "      <td>4.7</td>\n",
       "      <td>3.2</td>\n",
       "      <td>-1</td>\n",
       "      <td>0.017641</td>\n",
       "      <td>0.004002</td>\n",
       "      <td>0.009787</td>\n",
       "      <td>1</td>\n",
       "      <td>-250.282359</td>\n",
       "      <td>-250.295998</td>\n",
       "      <td>-1</td>\n",
       "      <td>-469.982359</td>\n",
       "      <td>0.004002</td>\n",
       "    </tr>\n",
       "    <tr>\n",
       "      <th>3</th>\n",
       "      <td>4.6</td>\n",
       "      <td>3.1</td>\n",
       "      <td>-1</td>\n",
       "      <td>0.017641</td>\n",
       "      <td>0.004002</td>\n",
       "      <td>0.009787</td>\n",
       "      <td>1</td>\n",
       "      <td>-250.282359</td>\n",
       "      <td>-250.295998</td>\n",
       "      <td>-1</td>\n",
       "      <td>-459.982359</td>\n",
       "      <td>0.004002</td>\n",
       "    </tr>\n",
       "    <tr>\n",
       "      <th>4</th>\n",
       "      <td>5.0</td>\n",
       "      <td>3.6</td>\n",
       "      <td>-1</td>\n",
       "      <td>0.017641</td>\n",
       "      <td>0.004002</td>\n",
       "      <td>0.009787</td>\n",
       "      <td>1</td>\n",
       "      <td>-250.282359</td>\n",
       "      <td>-250.295998</td>\n",
       "      <td>-1</td>\n",
       "      <td>-499.982359</td>\n",
       "      <td>0.004002</td>\n",
       "    </tr>\n",
       "  </tbody>\n",
       "</table>\n",
       "</div>"
      ],
      "text/plain": [
       "    x1   x2  target        w1        w2         b  y_hat   update_w1  \\\n",
       "0  5.1  3.5      -1  0.017641  0.004002  0.009787      1 -250.282359   \n",
       "1  4.9  3.0      -1  0.017641  0.004002  0.009787      1 -250.282359   \n",
       "2  4.7  3.2      -1  0.017641  0.004002  0.009787      1 -250.282359   \n",
       "3  4.6  3.1      -1  0.017641  0.004002  0.009787      1 -250.282359   \n",
       "4  5.0  3.6      -1  0.017641  0.004002  0.009787      1 -250.282359   \n",
       "\n",
       "    update_w2  predicted after update- epoch1  w1 update after epoch-2  \\\n",
       "0 -250.295998                              -1              -509.982359   \n",
       "1 -250.295998                              -1              -489.982359   \n",
       "2 -250.295998                              -1              -469.982359   \n",
       "3 -250.295998                              -1              -459.982359   \n",
       "4 -250.295998                              -1              -499.982359   \n",
       "\n",
       "   w2 update after epoch-2  \n",
       "0                 0.004002  \n",
       "1                 0.004002  \n",
       "2                 0.004002  \n",
       "3                 0.004002  \n",
       "4                 0.004002  "
      ]
     },
     "execution_count": 164,
     "metadata": {},
     "output_type": "execute_result"
    }
   ],
   "source": [
    "adaline.head()"
   ]
  },
  {
   "cell_type": "code",
   "execution_count": 165,
   "metadata": {},
   "outputs": [
    {
     "name": "stdout",
     "output_type": "stream",
     "text": [
      "Missclassified Samples: 50\n"
     ]
    }
   ],
   "source": [
    "print('Missclassified Samples: %d' % (adaline['target'] != adaline['predicted after update- epoch1']).sum())"
   ]
  },
  {
   "cell_type": "code",
   "execution_count": 166,
   "metadata": {},
   "outputs": [],
   "source": [
    "del_update_w1_e2 = []\n",
    "del_update_w2_e2 = []\n",
    "i = 0\n",
    "sum_1 = sum((adaline['target']   - adaline['predicted after update- epoch1']) * adaline['x1'])\n",
    "sum_2 = sum((adaline['target'] - adaline['predicted after update- epoch1']) * adaline['x1'])\n",
    "eta = 0.5\n",
    "while i<100:\n",
    "    del_w1 = eta * sum_1\n",
    "    del_w1 = eta * sum_2\n",
    "    \n",
    "    del_update_w1_e2.append(del_w1)\n",
    "    del_update_w2_e2.append(del_w2)\n",
    "    \n",
    "    i += 1\n",
    "    \n",
    "del_update_w1_e2 = np.array(del_update_w1)\n",
    "del_update_w2_e2 = np.array(del_update_w2)\n",
    "\n",
    "\n"
   ]
  },
  {
   "cell_type": "code",
   "execution_count": 167,
   "metadata": {},
   "outputs": [
    {
     "data": {
      "text/plain": [
       "(array(-250.3), array(-250.3))"
      ]
     },
     "execution_count": 167,
     "metadata": {},
     "output_type": "execute_result"
    }
   ],
   "source": [
    "del_update_w1_e2, del_update_w2_e2"
   ]
  },
  {
   "cell_type": "code",
   "execution_count": 169,
   "metadata": {},
   "outputs": [],
   "source": [
    "i = 0\n",
    "del_update_w1_e2_, del_update_w2_e2_ = [],[]\n",
    "while i<100 :\n",
    "    del_update_w1_e2_.append(del_update_w1_e2)\n",
    "    del_update_w2_e2_.append(del_update_w2_e2)\n",
    "    \n",
    "    i += 1\n",
    "\n",
    "adaline['w1 update after epoch-2'], adaline['w2 update after epoch-2'] = del_update_w1_e2_ + adaline['update_w1'], del_update_w2_e2_ + adaline['update_w2']"
   ]
  },
  {
   "cell_type": "code",
   "execution_count": 170,
   "metadata": {},
   "outputs": [
    {
     "data": {
      "text/html": [
       "<div>\n",
       "<style scoped>\n",
       "    .dataframe tbody tr th:only-of-type {\n",
       "        vertical-align: middle;\n",
       "    }\n",
       "\n",
       "    .dataframe tbody tr th {\n",
       "        vertical-align: top;\n",
       "    }\n",
       "\n",
       "    .dataframe thead th {\n",
       "        text-align: right;\n",
       "    }\n",
       "</style>\n",
       "<table border=\"1\" class=\"dataframe\">\n",
       "  <thead>\n",
       "    <tr style=\"text-align: right;\">\n",
       "      <th></th>\n",
       "      <th>x1</th>\n",
       "      <th>x2</th>\n",
       "      <th>target</th>\n",
       "      <th>w1</th>\n",
       "      <th>w2</th>\n",
       "      <th>b</th>\n",
       "      <th>y_hat</th>\n",
       "      <th>update_w1</th>\n",
       "      <th>update_w2</th>\n",
       "      <th>predicted after update- epoch1</th>\n",
       "      <th>w1 update after epoch-2</th>\n",
       "      <th>w2 update after epoch-2</th>\n",
       "    </tr>\n",
       "  </thead>\n",
       "  <tbody>\n",
       "    <tr>\n",
       "      <th>0</th>\n",
       "      <td>5.1</td>\n",
       "      <td>3.5</td>\n",
       "      <td>-1</td>\n",
       "      <td>0.017641</td>\n",
       "      <td>0.004002</td>\n",
       "      <td>0.009787</td>\n",
       "      <td>1</td>\n",
       "      <td>-250.282359</td>\n",
       "      <td>-250.295998</td>\n",
       "      <td>-1</td>\n",
       "      <td>-500.582359</td>\n",
       "      <td>-500.595998</td>\n",
       "    </tr>\n",
       "    <tr>\n",
       "      <th>1</th>\n",
       "      <td>4.9</td>\n",
       "      <td>3.0</td>\n",
       "      <td>-1</td>\n",
       "      <td>0.017641</td>\n",
       "      <td>0.004002</td>\n",
       "      <td>0.009787</td>\n",
       "      <td>1</td>\n",
       "      <td>-250.282359</td>\n",
       "      <td>-250.295998</td>\n",
       "      <td>-1</td>\n",
       "      <td>-500.582359</td>\n",
       "      <td>-500.595998</td>\n",
       "    </tr>\n",
       "    <tr>\n",
       "      <th>2</th>\n",
       "      <td>4.7</td>\n",
       "      <td>3.2</td>\n",
       "      <td>-1</td>\n",
       "      <td>0.017641</td>\n",
       "      <td>0.004002</td>\n",
       "      <td>0.009787</td>\n",
       "      <td>1</td>\n",
       "      <td>-250.282359</td>\n",
       "      <td>-250.295998</td>\n",
       "      <td>-1</td>\n",
       "      <td>-500.582359</td>\n",
       "      <td>-500.595998</td>\n",
       "    </tr>\n",
       "    <tr>\n",
       "      <th>3</th>\n",
       "      <td>4.6</td>\n",
       "      <td>3.1</td>\n",
       "      <td>-1</td>\n",
       "      <td>0.017641</td>\n",
       "      <td>0.004002</td>\n",
       "      <td>0.009787</td>\n",
       "      <td>1</td>\n",
       "      <td>-250.282359</td>\n",
       "      <td>-250.295998</td>\n",
       "      <td>-1</td>\n",
       "      <td>-500.582359</td>\n",
       "      <td>-500.595998</td>\n",
       "    </tr>\n",
       "    <tr>\n",
       "      <th>4</th>\n",
       "      <td>5.0</td>\n",
       "      <td>3.6</td>\n",
       "      <td>-1</td>\n",
       "      <td>0.017641</td>\n",
       "      <td>0.004002</td>\n",
       "      <td>0.009787</td>\n",
       "      <td>1</td>\n",
       "      <td>-250.282359</td>\n",
       "      <td>-250.295998</td>\n",
       "      <td>-1</td>\n",
       "      <td>-500.582359</td>\n",
       "      <td>-500.595998</td>\n",
       "    </tr>\n",
       "  </tbody>\n",
       "</table>\n",
       "</div>"
      ],
      "text/plain": [
       "    x1   x2  target        w1        w2         b  y_hat   update_w1  \\\n",
       "0  5.1  3.5      -1  0.017641  0.004002  0.009787      1 -250.282359   \n",
       "1  4.9  3.0      -1  0.017641  0.004002  0.009787      1 -250.282359   \n",
       "2  4.7  3.2      -1  0.017641  0.004002  0.009787      1 -250.282359   \n",
       "3  4.6  3.1      -1  0.017641  0.004002  0.009787      1 -250.282359   \n",
       "4  5.0  3.6      -1  0.017641  0.004002  0.009787      1 -250.282359   \n",
       "\n",
       "    update_w2  predicted after update- epoch1  w1 update after epoch-2  \\\n",
       "0 -250.295998                              -1              -500.582359   \n",
       "1 -250.295998                              -1              -500.582359   \n",
       "2 -250.295998                              -1              -500.582359   \n",
       "3 -250.295998                              -1              -500.582359   \n",
       "4 -250.295998                              -1              -500.582359   \n",
       "\n",
       "   w2 update after epoch-2  \n",
       "0              -500.595998  \n",
       "1              -500.595998  \n",
       "2              -500.595998  \n",
       "3              -500.595998  \n",
       "4              -500.595998  "
      ]
     },
     "execution_count": 170,
     "metadata": {},
     "output_type": "execute_result"
    }
   ],
   "source": [
    "adaline.head()"
   ]
  },
  {
   "cell_type": "code",
   "execution_count": 171,
   "metadata": {},
   "outputs": [],
   "source": [
    "predicted_after_update = []\n",
    "i = 0\n",
    "\n",
    "while i<100:\n",
    "    range_ = range(0,100)\n",
    "    \n",
    "    for i in range_:\n",
    "        y_hat = adaline['b'][i] + adaline['w1 update after epoch-2'][i] * adaline['x1'][i] + adaline['w2 update after epoch-2'][i] * adaline['x2'][i]\n",
    "        if y_hat >=0 :\n",
    "            predicted_after_update.append(1)\n",
    "        else:\n",
    "            predicted_after_update.append(-1)\n",
    "    \n",
    "    i += 1"
   ]
  },
  {
   "cell_type": "code",
   "execution_count": 172,
   "metadata": {},
   "outputs": [],
   "source": [
    "adaline['predicted after update- epoch2'] = predicted_after_update"
   ]
  },
  {
   "cell_type": "code",
   "execution_count": 173,
   "metadata": {
    "scrolled": true
   },
   "outputs": [
    {
     "data": {
      "text/html": [
       "<div>\n",
       "<style scoped>\n",
       "    .dataframe tbody tr th:only-of-type {\n",
       "        vertical-align: middle;\n",
       "    }\n",
       "\n",
       "    .dataframe tbody tr th {\n",
       "        vertical-align: top;\n",
       "    }\n",
       "\n",
       "    .dataframe thead th {\n",
       "        text-align: right;\n",
       "    }\n",
       "</style>\n",
       "<table border=\"1\" class=\"dataframe\">\n",
       "  <thead>\n",
       "    <tr style=\"text-align: right;\">\n",
       "      <th></th>\n",
       "      <th>x1</th>\n",
       "      <th>x2</th>\n",
       "      <th>target</th>\n",
       "      <th>w1</th>\n",
       "      <th>w2</th>\n",
       "      <th>b</th>\n",
       "      <th>y_hat</th>\n",
       "      <th>update_w1</th>\n",
       "      <th>update_w2</th>\n",
       "      <th>predicted after update- epoch1</th>\n",
       "      <th>w1 update after epoch-2</th>\n",
       "      <th>w2 update after epoch-2</th>\n",
       "      <th>predicted after update- epoch2</th>\n",
       "    </tr>\n",
       "  </thead>\n",
       "  <tbody>\n",
       "    <tr>\n",
       "      <th>0</th>\n",
       "      <td>5.1</td>\n",
       "      <td>3.5</td>\n",
       "      <td>-1</td>\n",
       "      <td>0.017641</td>\n",
       "      <td>0.004002</td>\n",
       "      <td>0.009787</td>\n",
       "      <td>1</td>\n",
       "      <td>-250.282359</td>\n",
       "      <td>-250.295998</td>\n",
       "      <td>-1</td>\n",
       "      <td>-500.582359</td>\n",
       "      <td>-500.595998</td>\n",
       "      <td>-1</td>\n",
       "    </tr>\n",
       "    <tr>\n",
       "      <th>1</th>\n",
       "      <td>4.9</td>\n",
       "      <td>3.0</td>\n",
       "      <td>-1</td>\n",
       "      <td>0.017641</td>\n",
       "      <td>0.004002</td>\n",
       "      <td>0.009787</td>\n",
       "      <td>1</td>\n",
       "      <td>-250.282359</td>\n",
       "      <td>-250.295998</td>\n",
       "      <td>-1</td>\n",
       "      <td>-500.582359</td>\n",
       "      <td>-500.595998</td>\n",
       "      <td>-1</td>\n",
       "    </tr>\n",
       "    <tr>\n",
       "      <th>2</th>\n",
       "      <td>4.7</td>\n",
       "      <td>3.2</td>\n",
       "      <td>-1</td>\n",
       "      <td>0.017641</td>\n",
       "      <td>0.004002</td>\n",
       "      <td>0.009787</td>\n",
       "      <td>1</td>\n",
       "      <td>-250.282359</td>\n",
       "      <td>-250.295998</td>\n",
       "      <td>-1</td>\n",
       "      <td>-500.582359</td>\n",
       "      <td>-500.595998</td>\n",
       "      <td>-1</td>\n",
       "    </tr>\n",
       "    <tr>\n",
       "      <th>3</th>\n",
       "      <td>4.6</td>\n",
       "      <td>3.1</td>\n",
       "      <td>-1</td>\n",
       "      <td>0.017641</td>\n",
       "      <td>0.004002</td>\n",
       "      <td>0.009787</td>\n",
       "      <td>1</td>\n",
       "      <td>-250.282359</td>\n",
       "      <td>-250.295998</td>\n",
       "      <td>-1</td>\n",
       "      <td>-500.582359</td>\n",
       "      <td>-500.595998</td>\n",
       "      <td>-1</td>\n",
       "    </tr>\n",
       "    <tr>\n",
       "      <th>4</th>\n",
       "      <td>5.0</td>\n",
       "      <td>3.6</td>\n",
       "      <td>-1</td>\n",
       "      <td>0.017641</td>\n",
       "      <td>0.004002</td>\n",
       "      <td>0.009787</td>\n",
       "      <td>1</td>\n",
       "      <td>-250.282359</td>\n",
       "      <td>-250.295998</td>\n",
       "      <td>-1</td>\n",
       "      <td>-500.582359</td>\n",
       "      <td>-500.595998</td>\n",
       "      <td>-1</td>\n",
       "    </tr>\n",
       "  </tbody>\n",
       "</table>\n",
       "</div>"
      ],
      "text/plain": [
       "    x1   x2  target        w1        w2         b  y_hat   update_w1  \\\n",
       "0  5.1  3.5      -1  0.017641  0.004002  0.009787      1 -250.282359   \n",
       "1  4.9  3.0      -1  0.017641  0.004002  0.009787      1 -250.282359   \n",
       "2  4.7  3.2      -1  0.017641  0.004002  0.009787      1 -250.282359   \n",
       "3  4.6  3.1      -1  0.017641  0.004002  0.009787      1 -250.282359   \n",
       "4  5.0  3.6      -1  0.017641  0.004002  0.009787      1 -250.282359   \n",
       "\n",
       "    update_w2  predicted after update- epoch1  w1 update after epoch-2  \\\n",
       "0 -250.295998                              -1              -500.582359   \n",
       "1 -250.295998                              -1              -500.582359   \n",
       "2 -250.295998                              -1              -500.582359   \n",
       "3 -250.295998                              -1              -500.582359   \n",
       "4 -250.295998                              -1              -500.582359   \n",
       "\n",
       "   w2 update after epoch-2  predicted after update- epoch2  \n",
       "0              -500.595998                              -1  \n",
       "1              -500.595998                              -1  \n",
       "2              -500.595998                              -1  \n",
       "3              -500.595998                              -1  \n",
       "4              -500.595998                              -1  "
      ]
     },
     "execution_count": 173,
     "metadata": {},
     "output_type": "execute_result"
    }
   ],
   "source": [
    "adaline.head()"
   ]
  },
  {
   "cell_type": "code",
   "execution_count": 174,
   "metadata": {},
   "outputs": [
    {
     "name": "stdout",
     "output_type": "stream",
     "text": [
      "Missclassified Samples: 50\n"
     ]
    }
   ],
   "source": [
    "print('Missclassified Samples: %d' % (adaline['target'] != adaline['predicted after update- epoch1']).sum())"
   ]
  },
  {
   "cell_type": "markdown",
   "metadata": {},
   "source": [
    "# Logistic Regression"
   ]
  },
  {
   "cell_type": "code",
   "execution_count": 116,
   "metadata": {},
   "outputs": [],
   "source": [
    "lr = adaline[['x1', 'x2', 'w1', 'w2', 'b']]"
   ]
  },
  {
   "cell_type": "code",
   "execution_count": 117,
   "metadata": {},
   "outputs": [
    {
     "data": {
      "text/html": [
       "<div>\n",
       "<style scoped>\n",
       "    .dataframe tbody tr th:only-of-type {\n",
       "        vertical-align: middle;\n",
       "    }\n",
       "\n",
       "    .dataframe tbody tr th {\n",
       "        vertical-align: top;\n",
       "    }\n",
       "\n",
       "    .dataframe thead th {\n",
       "        text-align: right;\n",
       "    }\n",
       "</style>\n",
       "<table border=\"1\" class=\"dataframe\">\n",
       "  <thead>\n",
       "    <tr style=\"text-align: right;\">\n",
       "      <th></th>\n",
       "      <th>x1</th>\n",
       "      <th>x2</th>\n",
       "      <th>w1</th>\n",
       "      <th>w2</th>\n",
       "      <th>b</th>\n",
       "    </tr>\n",
       "  </thead>\n",
       "  <tbody>\n",
       "    <tr>\n",
       "      <th>0</th>\n",
       "      <td>5.1</td>\n",
       "      <td>3.5</td>\n",
       "      <td>0.017641</td>\n",
       "      <td>0.004002</td>\n",
       "      <td>0.009787</td>\n",
       "    </tr>\n",
       "    <tr>\n",
       "      <th>1</th>\n",
       "      <td>4.9</td>\n",
       "      <td>3.0</td>\n",
       "      <td>0.017641</td>\n",
       "      <td>0.004002</td>\n",
       "      <td>0.009787</td>\n",
       "    </tr>\n",
       "    <tr>\n",
       "      <th>2</th>\n",
       "      <td>4.7</td>\n",
       "      <td>3.2</td>\n",
       "      <td>0.017641</td>\n",
       "      <td>0.004002</td>\n",
       "      <td>0.009787</td>\n",
       "    </tr>\n",
       "    <tr>\n",
       "      <th>3</th>\n",
       "      <td>4.6</td>\n",
       "      <td>3.1</td>\n",
       "      <td>0.017641</td>\n",
       "      <td>0.004002</td>\n",
       "      <td>0.009787</td>\n",
       "    </tr>\n",
       "    <tr>\n",
       "      <th>4</th>\n",
       "      <td>5.0</td>\n",
       "      <td>3.6</td>\n",
       "      <td>0.017641</td>\n",
       "      <td>0.004002</td>\n",
       "      <td>0.009787</td>\n",
       "    </tr>\n",
       "  </tbody>\n",
       "</table>\n",
       "</div>"
      ],
      "text/plain": [
       "    x1   x2        w1        w2         b\n",
       "0  5.1  3.5  0.017641  0.004002  0.009787\n",
       "1  4.9  3.0  0.017641  0.004002  0.009787\n",
       "2  4.7  3.2  0.017641  0.004002  0.009787\n",
       "3  4.6  3.1  0.017641  0.004002  0.009787\n",
       "4  5.0  3.6  0.017641  0.004002  0.009787"
      ]
     },
     "execution_count": 117,
     "metadata": {},
     "output_type": "execute_result"
    }
   ],
   "source": [
    "lr.head()"
   ]
  },
  {
   "cell_type": "code",
   "execution_count": 146,
   "metadata": {},
   "outputs": [],
   "source": [
    "i = 0\n",
    "z = []\n",
    "x0 = 102.1763564 \n",
    "\n",
    "while i<100:\n",
    "    zi =  x0 * lr['b'][i] + lr['w1'][i] * lr['x1'][i] + lr['w2'][i] * lr['x2'][i]\n",
    "    phi_z = 1 / (1 + np.exp(-zi))\n",
    "    \n",
    "    if phi_z >=0:\n",
    "        z.append(1)\n",
    "    else:\n",
    "        z.append(0)\n",
    "        \n",
    "    i += 1"
   ]
  },
  {
   "cell_type": "code",
   "execution_count": 147,
   "metadata": {
    "collapsed": true
   },
   "outputs": [
    {
     "data": {
      "text/plain": [
       "[1,\n",
       " 1,\n",
       " 1,\n",
       " 1,\n",
       " 1,\n",
       " 1,\n",
       " 1,\n",
       " 1,\n",
       " 1,\n",
       " 1,\n",
       " 1,\n",
       " 1,\n",
       " 1,\n",
       " 1,\n",
       " 1,\n",
       " 1,\n",
       " 1,\n",
       " 1,\n",
       " 1,\n",
       " 1,\n",
       " 1,\n",
       " 1,\n",
       " 1,\n",
       " 1,\n",
       " 1,\n",
       " 1,\n",
       " 1,\n",
       " 1,\n",
       " 1,\n",
       " 1,\n",
       " 1,\n",
       " 1,\n",
       " 1,\n",
       " 1,\n",
       " 1,\n",
       " 1,\n",
       " 1,\n",
       " 1,\n",
       " 1,\n",
       " 1,\n",
       " 1,\n",
       " 1,\n",
       " 1,\n",
       " 1,\n",
       " 1,\n",
       " 1,\n",
       " 1,\n",
       " 1,\n",
       " 1,\n",
       " 1,\n",
       " 1,\n",
       " 1,\n",
       " 1,\n",
       " 1,\n",
       " 1,\n",
       " 1,\n",
       " 1,\n",
       " 1,\n",
       " 1,\n",
       " 1,\n",
       " 1,\n",
       " 1,\n",
       " 1,\n",
       " 1,\n",
       " 1,\n",
       " 1,\n",
       " 1,\n",
       " 1,\n",
       " 1,\n",
       " 1,\n",
       " 1,\n",
       " 1,\n",
       " 1,\n",
       " 1,\n",
       " 1,\n",
       " 1,\n",
       " 1,\n",
       " 1,\n",
       " 1,\n",
       " 1,\n",
       " 1,\n",
       " 1,\n",
       " 1,\n",
       " 1,\n",
       " 1,\n",
       " 1,\n",
       " 1,\n",
       " 1,\n",
       " 1,\n",
       " 1,\n",
       " 1,\n",
       " 1,\n",
       " 1,\n",
       " 1,\n",
       " 1,\n",
       " 1,\n",
       " 1,\n",
       " 1,\n",
       " 1,\n",
       " 1]"
      ]
     },
     "execution_count": 147,
     "metadata": {},
     "output_type": "execute_result"
    }
   ],
   "source": []
  },
  {
   "cell_type": "code",
   "execution_count": null,
   "metadata": {},
   "outputs": [],
   "source": []
  }
 ],
 "metadata": {
  "kernelspec": {
   "display_name": "Python 3",
   "language": "python",
   "name": "python3"
  },
  "language_info": {
   "codemirror_mode": {
    "name": "ipython",
    "version": 3
   },
   "file_extension": ".py",
   "mimetype": "text/x-python",
   "name": "python",
   "nbconvert_exporter": "python",
   "pygments_lexer": "ipython3",
   "version": "3.7.6"
  }
 },
 "nbformat": 4,
 "nbformat_minor": 4
}
